{
 "cells": [
  {
   "cell_type": "code",
   "execution_count": 13,
   "metadata": {
    "collapsed": true
   },
   "outputs": [],
   "source": [
    "import pandas as pd"
   ]
  },
  {
   "cell_type": "code",
   "execution_count": 14,
   "metadata": {},
   "outputs": [],
   "source": [
    "df = pd.read_parquet('../data/population_by_age.parquet')"
   ]
  },
  {
   "cell_type": "code",
   "execution_count": 16,
   "metadata": {},
   "outputs": [],
   "source": [
    "pop = pd.read_csv('../data/total_population.csv')"
   ]
  },
  {
   "cell_type": "code",
   "execution_count": 42,
   "metadata": {},
   "outputs": [
    {
     "data": {
      "text/html": [
       "<div>\n",
       "<style scoped>\n",
       "    .dataframe tbody tr th:only-of-type {\n",
       "        vertical-align: middle;\n",
       "    }\n",
       "\n",
       "    .dataframe tbody tr th {\n",
       "        vertical-align: top;\n",
       "    }\n",
       "\n",
       "    .dataframe thead th {\n",
       "        text-align: right;\n",
       "    }\n",
       "</style>\n",
       "<table border=\"1\" class=\"dataframe\">\n",
       "  <thead>\n",
       "    <tr style=\"text-align: right;\">\n",
       "      <th></th>\n",
       "      <th>Регион</th>\n",
       "      <th>Молодежь</th>\n",
       "      <th>Дети</th>\n",
       "      <th>Молодежь + Дети</th>\n",
       "    </tr>\n",
       "  </thead>\n",
       "  <tbody>\n",
       "    <tr>\n",
       "      <th>0</th>\n",
       "      <td>Белгородская область</td>\n",
       "      <td>400006</td>\n",
       "      <td>289657</td>\n",
       "      <td>630442</td>\n",
       "    </tr>\n",
       "    <tr>\n",
       "      <th>1</th>\n",
       "      <td>Брянская область</td>\n",
       "      <td>301126</td>\n",
       "      <td>224432</td>\n",
       "      <td>477988</td>\n",
       "    </tr>\n",
       "    <tr>\n",
       "      <th>2</th>\n",
       "      <td>Владимирская область</td>\n",
       "      <td>333206</td>\n",
       "      <td>248412</td>\n",
       "      <td>529428</td>\n",
       "    </tr>\n",
       "    <tr>\n",
       "      <th>3</th>\n",
       "      <td>Воронежская область</td>\n",
       "      <td>601133</td>\n",
       "      <td>410152</td>\n",
       "      <td>929239</td>\n",
       "    </tr>\n",
       "    <tr>\n",
       "      <th>4</th>\n",
       "      <td>Ивановская область</td>\n",
       "      <td>251961</td>\n",
       "      <td>181282</td>\n",
       "      <td>395595</td>\n",
       "    </tr>\n",
       "    <tr>\n",
       "      <th>...</th>\n",
       "      <td>...</td>\n",
       "      <td>...</td>\n",
       "      <td>...</td>\n",
       "      <td>...</td>\n",
       "    </tr>\n",
       "    <tr>\n",
       "      <th>82</th>\n",
       "      <td>Амурская область</td>\n",
       "      <td>221589</td>\n",
       "      <td>177105</td>\n",
       "      <td>360926</td>\n",
       "    </tr>\n",
       "    <tr>\n",
       "      <th>83</th>\n",
       "      <td>Магаданская область</td>\n",
       "      <td>36308</td>\n",
       "      <td>29028</td>\n",
       "      <td>58928</td>\n",
       "    </tr>\n",
       "    <tr>\n",
       "      <th>84</th>\n",
       "      <td>Сахалинская область</td>\n",
       "      <td>129499</td>\n",
       "      <td>107150</td>\n",
       "      <td>215152</td>\n",
       "    </tr>\n",
       "    <tr>\n",
       "      <th>85</th>\n",
       "      <td>Еврейская автономная область</td>\n",
       "      <td>43995</td>\n",
       "      <td>36324</td>\n",
       "      <td>72595</td>\n",
       "    </tr>\n",
       "    <tr>\n",
       "      <th>86</th>\n",
       "      <td>Чукотский автономный округ</td>\n",
       "      <td>14238</td>\n",
       "      <td>12422</td>\n",
       "      <td>23791</td>\n",
       "    </tr>\n",
       "  </tbody>\n",
       "</table>\n",
       "<p>85 rows × 4 columns</p>\n",
       "</div>"
      ],
      "text/plain": [
       "                          Регион  Молодежь    Дети  Молодежь + Дети\n",
       "0           Белгородская область    400006  289657           630442\n",
       "1               Брянская область    301126  224432           477988\n",
       "2           Владимирская область    333206  248412           529428\n",
       "3            Воронежская область    601133  410152           929239\n",
       "4             Ивановская область    251961  181282           395595\n",
       "..                           ...       ...     ...              ...\n",
       "82              Амурская область    221589  177105           360926\n",
       "83           Магаданская область     36308   29028            58928\n",
       "84           Сахалинская область    129499  107150           215152\n",
       "85  Еврейская автономная область     43995   36324            72595\n",
       "86    Чукотский автономный округ     14238   12422            23791\n",
       "\n",
       "[85 rows x 4 columns]"
      ]
     },
     "execution_count": 42,
     "metadata": {},
     "output_type": "execute_result"
    }
   ],
   "source": [
    "df"
   ]
  },
  {
   "cell_type": "code",
   "execution_count": 48,
   "metadata": {},
   "outputs": [],
   "source": [
    "pop.merge(df, on=['Регион']).to_parquet('../data/population.parquet', index=False)"
   ]
  }
 ],
 "metadata": {
  "kernelspec": {
   "display_name": "Python 3 (ipykernel)",
   "language": "python",
   "name": "python3"
  },
  "language_info": {
   "codemirror_mode": {
    "name": "ipython",
    "version": 3
   },
   "file_extension": ".py",
   "mimetype": "text/x-python",
   "name": "python",
   "nbconvert_exporter": "python",
   "pygments_lexer": "ipython3",
   "version": "3.10.8"
  }
 },
 "nbformat": 4,
 "nbformat_minor": 1
}
