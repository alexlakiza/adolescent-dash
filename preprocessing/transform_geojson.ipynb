{
 "cells": [
  {
   "cell_type": "code",
   "execution_count": 1,
   "id": "7473b645",
   "metadata": {},
   "outputs": [],
   "source": [
    "import json\n",
    "import pandas as pd"
   ]
  },
  {
   "cell_type": "code",
   "execution_count": 3,
   "id": "7851c7c7",
   "metadata": {},
   "outputs": [],
   "source": [
    "geodata = json.load(open('../init_data/russia_geojson_wgs84.geojson'))"
   ]
  },
  {
   "cell_type": "code",
   "execution_count": 5,
   "id": "c16deb00",
   "metadata": {},
   "outputs": [
    {
     "data": {
      "text/plain": [
       "dict_keys(['type', 'features'])"
      ]
     },
     "execution_count": 5,
     "metadata": {},
     "output_type": "execute_result"
    }
   ],
   "source": [
    "geodata.keys()"
   ]
  },
  {
   "cell_type": "code",
   "execution_count": 7,
   "id": "526e3488",
   "metadata": {},
   "outputs": [
    {
     "data": {
      "text/plain": [
       "85"
      ]
     },
     "execution_count": 7,
     "metadata": {},
     "output_type": "execute_result"
    }
   ],
   "source": [
    "len(geodata['features'])"
   ]
  },
  {
   "cell_type": "markdown",
   "id": "0f46d1ce",
   "metadata": {},
   "source": [
    "Список названий регионов в geojson"
   ]
  },
  {
   "cell_type": "code",
   "execution_count": 14,
   "id": "4038de82",
   "metadata": {},
   "outputs": [
    {
     "data": {
      "text/plain": [
       "'Республика Карелия'"
      ]
     },
     "execution_count": 14,
     "metadata": {},
     "output_type": "execute_result"
    }
   ],
   "source": [
    "geodata['features'][1]['properties']['full_name']"
   ]
  },
  {
   "cell_type": "code",
   "execution_count": 21,
   "id": "7a82ae71",
   "metadata": {},
   "outputs": [],
   "source": [
    "pop_df = pd.read_csv('../data/population.csv')"
   ]
  },
  {
   "cell_type": "code",
   "execution_count": 23,
   "id": "05e32ecd",
   "metadata": {},
   "outputs": [
    {
     "data": {
      "text/plain": [
       "['Алтайский край',\n",
       " 'Амурская область',\n",
       " 'Архангельская область',\n",
       " 'Астраханская область',\n",
       " 'Белгородская область',\n",
       " 'Брянская область',\n",
       " 'Владимирская область',\n",
       " 'Волгоградская область',\n",
       " 'Вологодская область',\n",
       " 'Воронежская область',\n",
       " 'Еврейская автономная область',\n",
       " 'Забайкальский край',\n",
       " 'Ивановская область',\n",
       " 'Иркутская область',\n",
       " 'Кабардино-Балкарская Республика',\n",
       " 'Калининградская область',\n",
       " 'Калужская область',\n",
       " 'Камчатский край',\n",
       " 'Карачаево-Черкесская Республика',\n",
       " 'Кемеровская область',\n",
       " 'Кировская область',\n",
       " 'Костромская область',\n",
       " 'Краснодарский край',\n",
       " 'Красноярский край',\n",
       " 'Курганская область',\n",
       " 'Курская область',\n",
       " 'Ленинградская область',\n",
       " 'Липецкая область',\n",
       " 'Магаданская область',\n",
       " 'Москва',\n",
       " 'Московская область',\n",
       " 'Мурманская область',\n",
       " 'Ненецкий автономный округ',\n",
       " 'Нижегородская область',\n",
       " 'Новгородская область',\n",
       " 'Новосибирская область',\n",
       " 'Омская область',\n",
       " 'Оренбургская область',\n",
       " 'Орловская область',\n",
       " 'Пензенская область',\n",
       " 'Пермский край',\n",
       " 'Приморский край',\n",
       " 'Псковская область',\n",
       " 'Республика Адыгея',\n",
       " 'Республика Алтай',\n",
       " 'Республика Башкортостан',\n",
       " 'Республика Бурятия',\n",
       " 'Республика Дагестан',\n",
       " 'Республика Ингушетия',\n",
       " 'Республика Калмыкия',\n",
       " 'Республика Карелия',\n",
       " 'Республика Коми',\n",
       " 'Республика Крым',\n",
       " 'Республика Марий Эл',\n",
       " 'Республика Мордовия',\n",
       " 'Республика Саха (Якутия)',\n",
       " 'Республика Северная Осетия - Алания',\n",
       " 'Республика Татарстан',\n",
       " 'Республика Тыва',\n",
       " 'Республика Хакасия',\n",
       " 'Ростовская область',\n",
       " 'Рязанская область',\n",
       " 'Самарская область',\n",
       " 'Санкт-Петербург',\n",
       " 'Саратовская область',\n",
       " 'Сахалинская область',\n",
       " 'Свердловская область',\n",
       " 'Севастополь',\n",
       " 'Смоленская область',\n",
       " 'Ставропольский край',\n",
       " 'Тамбовская область',\n",
       " 'Тверская область',\n",
       " 'Томская область',\n",
       " 'Тульская область',\n",
       " 'Тюменская область',\n",
       " 'Удмуртская Республика',\n",
       " 'Ульяновская область',\n",
       " 'Хабаровский край',\n",
       " 'Ханты-Мансийский автономный округ - Югра',\n",
       " 'Челябинская область',\n",
       " 'Чеченская Республика',\n",
       " 'Чувашская Республика',\n",
       " 'Чукотский автономный округ',\n",
       " 'Ямало-Ненецкий автономный округ',\n",
       " 'Ярославская область']"
      ]
     },
     "execution_count": 23,
     "metadata": {},
     "output_type": "execute_result"
    }
   ],
   "source": [
    "pop_df['Регион'].tolist()"
   ]
  },
  {
   "cell_type": "code",
   "execution_count": 26,
   "id": "59caede9",
   "metadata": {},
   "outputs": [
    {
     "name": "stdout",
     "output_type": "stream",
     "text": [
      "Удмуртская республика \n",
      "12\n",
      "===\n",
      "Еврейская АО\n",
      "14\n",
      "===\n",
      "Республика Саха\n",
      "50\n",
      "===\n",
      "Республика Северная Осетия-Алания\n",
      "59\n",
      "===\n",
      "Ненецкий АО\n",
      "62\n",
      "===\n",
      "Ханты-Мансийский АО — Югра\n",
      "64\n",
      "===\n",
      "Чувашская республика\n",
      "72\n",
      "===\n",
      "Ямало-Ненецкий АО\n",
      "73\n",
      "===\n",
      "Чеченская республика\n",
      "83\n",
      "===\n",
      "Чукотский АО\n",
      "84\n",
      "===\n"
     ]
    }
   ],
   "source": [
    "for i in range(85):\n",
    "    if geodata['features'][i]['properties']['full_name'] not in pop_df['Регион'].tolist():\n",
    "        print(geodata['features'][i]['properties']['full_name'])\n",
    "        print(i)\n",
    "        print('===')"
   ]
  },
  {
   "cell_type": "code",
   "execution_count": 28,
   "id": "14c7e3c6",
   "metadata": {},
   "outputs": [],
   "source": [
    "geodata['features'][12]['properties']['full_name'] = 'Удмуртская Республика'"
   ]
  },
  {
   "cell_type": "code",
   "execution_count": 29,
   "id": "c784bef8",
   "metadata": {},
   "outputs": [],
   "source": [
    "geodata['features'][14]['properties']['full_name'] = 'Еврейская автономная область'"
   ]
  },
  {
   "cell_type": "code",
   "execution_count": 30,
   "id": "e6a55512",
   "metadata": {},
   "outputs": [],
   "source": [
    "geodata['features'][50]['properties']['full_name'] = 'Республика Саха (Якутия)'"
   ]
  },
  {
   "cell_type": "code",
   "execution_count": 32,
   "id": "cd07ac8b",
   "metadata": {},
   "outputs": [],
   "source": [
    "geodata['features'][59]['properties']['full_name'] = 'Республика Северная Осетия - Алания'"
   ]
  },
  {
   "cell_type": "code",
   "execution_count": 33,
   "id": "8931499a",
   "metadata": {},
   "outputs": [],
   "source": [
    "geodata['features'][62]['properties']['full_name'] = 'Ненецкий автономный округ'"
   ]
  },
  {
   "cell_type": "code",
   "execution_count": 34,
   "id": "75198f36",
   "metadata": {},
   "outputs": [],
   "source": [
    "geodata['features'][64]['properties']['full_name'] = 'Ханты-Мансийский автономный округ - Югра'"
   ]
  },
  {
   "cell_type": "code",
   "execution_count": 35,
   "id": "75dcdf48",
   "metadata": {},
   "outputs": [],
   "source": [
    "geodata['features'][72]['properties']['full_name'] = 'Чувашская Республика'"
   ]
  },
  {
   "cell_type": "code",
   "execution_count": 36,
   "id": "a6bbf3b5",
   "metadata": {},
   "outputs": [],
   "source": [
    "geodata['features'][73]['properties']['full_name'] = 'Ямало-Ненецкий автономный округ'"
   ]
  },
  {
   "cell_type": "code",
   "execution_count": 37,
   "id": "d2cfcfb9",
   "metadata": {},
   "outputs": [],
   "source": [
    "geodata['features'][83]['properties']['full_name'] = 'Чеченская Республика'"
   ]
  },
  {
   "cell_type": "code",
   "execution_count": 38,
   "id": "a7870636",
   "metadata": {},
   "outputs": [],
   "source": [
    "geodata['features'][84]['properties']['full_name'] = 'Чукотский автономный округ'"
   ]
  },
  {
   "cell_type": "code",
   "execution_count": 39,
   "id": "a2ea8c29",
   "metadata": {},
   "outputs": [
    {
     "data": {
      "text/plain": [
       "set()"
      ]
     },
     "execution_count": 39,
     "metadata": {},
     "output_type": "execute_result"
    }
   ],
   "source": [
    "set([geodata['features'][i]['properties']['full_name'] for i in range(85)]) - set(pop_df['Регион'].tolist())"
   ]
  },
  {
   "cell_type": "code",
   "execution_count": 40,
   "id": "7b1a4f6a",
   "metadata": {},
   "outputs": [
    {
     "data": {
      "text/plain": [
       "set()"
      ]
     },
     "execution_count": 40,
     "metadata": {},
     "output_type": "execute_result"
    }
   ],
   "source": [
    "set(pop_df['Регион'].tolist()) - set([geodata['features'][i]['properties']['full_name'] for i in range(85)])"
   ]
  },
  {
   "cell_type": "code",
   "execution_count": 44,
   "id": "21d2df23",
   "metadata": {},
   "outputs": [],
   "source": [
    "with open('../data/geodata.geojson', 'w') as path_to_dump:\n",
    "    json.dump(geodata, path_to_dump)"
   ]
  },
  {
   "cell_type": "code",
   "execution_count": null,
   "id": "e7ca4a92",
   "metadata": {},
   "outputs": [],
   "source": []
  }
 ],
 "metadata": {
  "kernelspec": {
   "display_name": "Python 3 (ipykernel)",
   "language": "python",
   "name": "python3"
  },
  "language_info": {
   "codemirror_mode": {
    "name": "ipython",
    "version": 3
   },
   "file_extension": ".py",
   "mimetype": "text/x-python",
   "name": "python",
   "nbconvert_exporter": "python",
   "pygments_lexer": "ipython3",
   "version": "3.10.8"
  }
 },
 "nbformat": 4,
 "nbformat_minor": 5
}
