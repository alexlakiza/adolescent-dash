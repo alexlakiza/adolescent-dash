{
 "cells": [
  {
   "cell_type": "code",
   "execution_count": 13,
   "id": "ba091e7b",
   "metadata": {},
   "outputs": [],
   "source": [
    "import pandas as pd\n",
    "import numpy as np\n",
    "import os"
   ]
  },
  {
   "cell_type": "code",
   "execution_count": 14,
   "id": "282be8d1",
   "metadata": {},
   "outputs": [],
   "source": [
    "def make_new_value(x):\n",
    "    if pd.isna(x):\n",
    "        return np.nan\n",
    "    elif x == 0:\n",
    "        return float(max(int(np.random.normal(x, 2)), 0))\n",
    "    else:\n",
    "        return float(max(int(np.random.normal(x, x/3.5)), 0))"
   ]
  },
  {
   "cell_type": "code",
   "execution_count": 15,
   "id": "d9d3f7c1",
   "metadata": {},
   "outputs": [],
   "source": [
    "for year_to_make_noise in ['2020', '2019']:\n",
    "    for file in os.listdir(os.path.join('..', 'data', year_to_make_noise)):\n",
    "        df = pd.read_parquet(os.path.join('..', 'data', year_to_make_noise, file))\n",
    "        df['Значение'] = df['Значение'].apply(make_new_value)\n",
    "        df.to_parquet(os.path.join('..', 'data', year_to_make_noise, file), index=False)"
   ]
  },
  {
   "cell_type": "code",
   "execution_count": 16,
   "id": "c734edb4",
   "metadata": {},
   "outputs": [
    {
     "data": {
      "text/plain": [
       "2.0"
      ]
     },
     "execution_count": 16,
     "metadata": {},
     "output_type": "execute_result"
    }
   ],
   "source": [
    "make_new_value(0)"
   ]
  },
  {
   "cell_type": "code",
   "execution_count": null,
   "id": "80a8b37d",
   "metadata": {},
   "outputs": [],
   "source": []
  }
 ],
 "metadata": {
  "kernelspec": {
   "display_name": "Python 3 (ipykernel)",
   "language": "python",
   "name": "python3"
  },
  "language_info": {
   "codemirror_mode": {
    "name": "ipython",
    "version": 3
   },
   "file_extension": ".py",
   "mimetype": "text/x-python",
   "name": "python",
   "nbconvert_exporter": "python",
   "pygments_lexer": "ipython3",
   "version": "3.10.8"
  }
 },
 "nbformat": 4,
 "nbformat_minor": 5
}
