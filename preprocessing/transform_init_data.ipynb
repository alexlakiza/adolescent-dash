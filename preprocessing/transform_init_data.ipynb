{
 "cells": [
  {
   "cell_type": "code",
   "execution_count": 1,
   "id": "28ab1882",
   "metadata": {},
   "outputs": [],
   "source": [
    "import pandas as pd"
   ]
  },
  {
   "cell_type": "markdown",
   "id": "48c93834",
   "metadata": {},
   "source": [
    "### P1"
   ]
  },
  {
   "cell_type": "code",
   "execution_count": 226,
   "id": "e9e6d4f4",
   "metadata": {},
   "outputs": [],
   "source": [
    "df = pd.read_excel('../init_data/Форма М1 2021.xlsx', sheet_name='Р1')"
   ]
  },
  {
   "cell_type": "code",
   "execution_count": 227,
   "id": "2e9bae21",
   "metadata": {},
   "outputs": [],
   "source": [
    "df = df[~df['Направления реализации государственной молодeжной политики'].str.startswith(' ')].copy()"
   ]
  },
  {
   "cell_type": "code",
   "execution_count": 223,
   "id": "a709b5dc",
   "metadata": {},
   "outputs": [],
   "source": [
    "df[['Регион', 'Округ', 'Направления реализации государственной молодeжной политики', 'Бюджет СРФ, руб',\n",
    "    'Кол-во грантов', 'Бюджет грантов, руб', 'Численность молодeжи, задействованной в программных мероприятиях по направлению',\n",
    "    'Количество детских и молодeжных общественных объединений, работающих по данному ']].to_parquet('../data/p1.parquet', \n",
    "                                                                                                    index=False)"
   ]
  },
  {
   "cell_type": "markdown",
   "id": "ecef7523",
   "metadata": {},
   "source": [
    "### P2"
   ]
  },
  {
   "cell_type": "code",
   "execution_count": 230,
   "id": "30a6364d",
   "metadata": {},
   "outputs": [],
   "source": [
    "df = pd.read_excel('../init_data/Форма М1 2021.xlsx', sheet_name='Р2')"
   ]
  },
  {
   "cell_type": "code",
   "execution_count": 244,
   "id": "cba76f71",
   "metadata": {},
   "outputs": [],
   "source": [
    "df = df[~df['Наименование'].str.startswith(' ')].copy()"
   ]
  },
  {
   "cell_type": "code",
   "execution_count": 249,
   "id": "47d1cee7",
   "metadata": {},
   "outputs": [],
   "source": [
    "df.drop(['Год', '№ строки'], axis=1).to_parquet('../data/p2.parquet', index=False)"
   ]
  },
  {
   "cell_type": "markdown",
   "id": "975c4a98",
   "metadata": {},
   "source": [
    "### P3"
   ]
  },
  {
   "cell_type": "code",
   "execution_count": 250,
   "id": "d4de3a46",
   "metadata": {},
   "outputs": [],
   "source": [
    "df = pd.read_excel('../init_data/Форма М1 2021.xlsx', sheet_name='Р3')"
   ]
  },
  {
   "cell_type": "code",
   "execution_count": 259,
   "id": "fe919a26",
   "metadata": {},
   "outputs": [],
   "source": [
    "df.drop(['Год', '№ строки'], axis=1).to_parquet('../data/p3.parquet', index=False)"
   ]
  },
  {
   "cell_type": "markdown",
   "id": "0e74320f",
   "metadata": {},
   "source": [
    "### P4"
   ]
  },
  {
   "cell_type": "code",
   "execution_count": null,
   "id": "1aa6cc8f",
   "metadata": {},
   "outputs": [],
   "source": []
  },
  {
   "cell_type": "code",
   "execution_count": null,
   "id": "b6bc0270",
   "metadata": {},
   "outputs": [],
   "source": []
  },
  {
   "cell_type": "code",
   "execution_count": null,
   "id": "4040df4a",
   "metadata": {},
   "outputs": [],
   "source": [
    "df"
   ]
  },
  {
   "cell_type": "code",
   "execution_count": null,
   "id": "9b09912a",
   "metadata": {},
   "outputs": [],
   "source": []
  },
  {
   "cell_type": "code",
   "execution_count": null,
   "id": "5fdf8d96",
   "metadata": {},
   "outputs": [],
   "source": []
  },
  {
   "cell_type": "code",
   "execution_count": null,
   "id": "6ade4889",
   "metadata": {},
   "outputs": [],
   "source": []
  },
  {
   "cell_type": "code",
   "execution_count": null,
   "id": "281ccf08",
   "metadata": {},
   "outputs": [],
   "source": []
  },
  {
   "cell_type": "code",
   "execution_count": null,
   "id": "cfffd871",
   "metadata": {},
   "outputs": [],
   "source": []
  },
  {
   "cell_type": "code",
   "execution_count": null,
   "id": "1c40c794",
   "metadata": {},
   "outputs": [],
   "source": []
  },
  {
   "cell_type": "code",
   "execution_count": 176,
   "id": "43e8ef47",
   "metadata": {},
   "outputs": [],
   "source": [
    "pop_df = pd.read_csv('../init_data/population.csv')"
   ]
  },
  {
   "cell_type": "code",
   "execution_count": 177,
   "id": "a54499b4",
   "metadata": {},
   "outputs": [
    {
     "data": {
      "text/html": [
       "<div>\n",
       "<style scoped>\n",
       "    .dataframe tbody tr th:only-of-type {\n",
       "        vertical-align: middle;\n",
       "    }\n",
       "\n",
       "    .dataframe tbody tr th {\n",
       "        vertical-align: top;\n",
       "    }\n",
       "\n",
       "    .dataframe thead th {\n",
       "        text-align: right;\n",
       "    }\n",
       "</style>\n",
       "<table border=\"1\" class=\"dataframe\">\n",
       "  <thead>\n",
       "    <tr style=\"text-align: right;\">\n",
       "      <th></th>\n",
       "      <th>Регион</th>\n",
       "      <th>Численность</th>\n",
       "      <th>Округ</th>\n",
       "    </tr>\n",
       "  </thead>\n",
       "  <tbody>\n",
       "    <tr>\n",
       "      <th>0</th>\n",
       "      <td>Алтайский край</td>\n",
       "      <td>2268179</td>\n",
       "      <td>СФО</td>\n",
       "    </tr>\n",
       "    <tr>\n",
       "      <th>1</th>\n",
       "      <td>Амурская область</td>\n",
       "      <td>772525</td>\n",
       "      <td>ДФО</td>\n",
       "    </tr>\n",
       "    <tr>\n",
       "      <th>2</th>\n",
       "      <td>Архангельская область</td>\n",
       "      <td>1069782</td>\n",
       "      <td>СЗФО</td>\n",
       "    </tr>\n",
       "    <tr>\n",
       "      <th>3</th>\n",
       "      <td>Белгородская область</td>\n",
       "      <td>1531917</td>\n",
       "      <td>ЦФО</td>\n",
       "    </tr>\n",
       "    <tr>\n",
       "      <th>4</th>\n",
       "      <td>Брянская область</td>\n",
       "      <td>1168771</td>\n",
       "      <td>ЦФО</td>\n",
       "    </tr>\n",
       "    <tr>\n",
       "      <th>...</th>\n",
       "      <td>...</td>\n",
       "      <td>...</td>\n",
       "      <td>...</td>\n",
       "    </tr>\n",
       "    <tr>\n",
       "      <th>79</th>\n",
       "      <td>Чеченская Республика</td>\n",
       "      <td>1516387</td>\n",
       "      <td>СКФО</td>\n",
       "    </tr>\n",
       "    <tr>\n",
       "      <th>80</th>\n",
       "      <td>Чувашская Республика</td>\n",
       "      <td>1198429</td>\n",
       "      <td>ПФО</td>\n",
       "    </tr>\n",
       "    <tr>\n",
       "      <th>81</th>\n",
       "      <td>Чукотский автономный округ</td>\n",
       "      <td>50040</td>\n",
       "      <td>ДФО</td>\n",
       "    </tr>\n",
       "    <tr>\n",
       "      <th>82</th>\n",
       "      <td>Ямало-Ненецкий автономный округ</td>\n",
       "      <td>552117</td>\n",
       "      <td>УФО</td>\n",
       "    </tr>\n",
       "    <tr>\n",
       "      <th>83</th>\n",
       "      <td>Ярославская область</td>\n",
       "      <td>1227383</td>\n",
       "      <td>ЦФО</td>\n",
       "    </tr>\n",
       "  </tbody>\n",
       "</table>\n",
       "<p>84 rows × 3 columns</p>\n",
       "</div>"
      ],
      "text/plain": [
       "                             Регион  Численность Округ\n",
       "0                    Алтайский край      2268179   СФО\n",
       "1                  Амурская область       772525   ДФО\n",
       "2             Архангельская область      1069782  СЗФО\n",
       "3              Белгородская область      1531917   ЦФО\n",
       "4                  Брянская область      1168771   ЦФО\n",
       "..                              ...          ...   ...\n",
       "79             Чеченская Республика      1516387  СКФО\n",
       "80             Чувашская Республика      1198429   ПФО\n",
       "81       Чукотский автономный округ        50040   ДФО\n",
       "82  Ямало-Ненецкий автономный округ       552117   УФО\n",
       "83              Ярославская область      1227383   ЦФО\n",
       "\n",
       "[84 rows x 3 columns]"
      ]
     },
     "execution_count": 177,
     "metadata": {},
     "output_type": "execute_result"
    }
   ],
   "source": [
    "pop_df"
   ]
  },
  {
   "cell_type": "code",
   "execution_count": null,
   "id": "1f7da9b3",
   "metadata": {},
   "outputs": [],
   "source": []
  }
 ],
 "metadata": {
  "kernelspec": {
   "display_name": "Python 3 (ipykernel)",
   "language": "python",
   "name": "python3"
  },
  "language_info": {
   "codemirror_mode": {
    "name": "ipython",
    "version": 3
   },
   "file_extension": ".py",
   "mimetype": "text/x-python",
   "name": "python",
   "nbconvert_exporter": "python",
   "pygments_lexer": "ipython3",
   "version": "3.10.8"
  }
 },
 "nbformat": 4,
 "nbformat_minor": 5
}
